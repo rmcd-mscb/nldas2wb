{
 "cells": [
  {
   "cell_type": "markdown",
   "id": "dc49f606-9679-4aa5-8828-3b68621981d7",
   "metadata": {},
   "source": [
    "# Convert nldas soil data to new netcdf file, that has more cf-standards to work with R tools.  Goal to write file as a standard cf-compliant netCDF file based on original data.\n"
   ]
  },
  {
   "cell_type": "code",
   "execution_count": null,
   "id": "70772397-ef9c-459c-bb8b-93838d075921",
   "metadata": {},
   "outputs": [],
   "source": [
    "\"\"\"Example notebook to work with nldas soil moisture netcdf files.\"\"\"\n",
    "\n",
    "import geopandas as gpd\n",
    "import numpy as np\n",
    "import time\n",
    "import pickle\n",
    "import xarray as xr\n",
    "import cftime\n",
    "import datetime\n",
    "from datetime import timedelta\n",
    "import rioxarray\n",
    "import pandas as pd"
   ]
  },
  {
   "cell_type": "code",
   "execution_count": null,
   "id": "b6c03586-5a5b-4b90-a095-f46a31fedd63",
   "metadata": {},
   "outputs": [],
   "source": [
    "# variables\n",
    "start = '1981-01-01'\n",
    "end = '1980-01-01'\n",
    "ncfile = '../data/bas_ref_all/noan_sm_d_1981.nc'\n",
    "shpfile = '../data/bas_ref_all/bas_ref_all.shp'\n",
    "new_ncfile = '../data/bas_ref_all/noan_sm_d_1981_new.nc'"
   ]
  },
  {
   "cell_type": "code",
   "execution_count": null,
   "id": "ba505f33-6b1a-4db1-9b23-f5501f6bac1f",
   "metadata": {},
   "outputs": [],
   "source": [
    "ds = xr.open_dataset(ncfile)\n",
    "ds['lon'] = ds.attrs['Lon']\n",
    "ds['lat'] = ds.attrs['Lat']"
   ]
  },
  {
   "cell_type": "code",
   "execution_count": null,
   "id": "57d114ca-3fcb-4680-9f3b-fb933d802644",
   "metadata": {},
   "outputs": [],
   "source": [
    "start = datetime.datetime(1981, 1, 1)\n",
    "times = np.array([start + timedelta(days=d) for d in range(365)])\n",
    "simple_times = np.arange(365)\n",
    "time_units = 'days since {:%Y-%m-%d 00:00}'.format(times[0])\n",
    "time_vals = cftime.date2num(times, time_units, calendar='standard', has_year_zero=None)\n",
    "dates = pd.date_range(start='1981-01-01 12:00', end='1981-12-31 12:00', freq='1d') # better method of generating dates per Signells help to MW\n",
    "\n",
    "# here we are reordering the dims from lat,lon,time to time,lat,lon -appears to be key to work with R-code\n",
    "SoilM_0_10cm = ds['SoilM_0_10cm'].transpose('JD', 'lat', 'lon').values\n",
    "SoilM_10_40cm = ds['SoilM_10_40cm'].transpose('JD', 'lat', 'lon').values\n",
    "SoilM_40_100cm = ds['SoilM_40_100cm'].transpose('JD', 'lat', 'lon').values\n",
    "SoilM_100_200cm = ds['SoilM_100_200cm'].transpose('JD', 'lat', 'lon').values\n",
    "\n",
    "ds_new = xr.Dataset({'SoilM_0_10cm': (['time', 'lat', 'lon'], SoilM_0_10cm, {'units': 'percent'}),\n",
    "                    'SoilM_10_40cm': (['time', 'lat', 'lon'], SoilM_10_40cm, {'units': 'percent'}),\n",
    "                    'SoilM_40_100cm': (['time', 'lat', 'lon'], SoilM_40_100cm, {'units': 'percent'}),\n",
    "                    'SoilM_100_200cm': (['time', 'lat', 'lon'], SoilM_100_200cm, {'units': 'percent'})},\n",
    "                    coords={'lat': (['lat'], ds['lat'].values, {'units':'degrees_north'}), \n",
    "                            'lon': (['lon'], ds['lon'].values, {'units':'degrees_east'}), \n",
    "                            'time': (['time'], dates)})\n",
    "ds_new.time.encoding['units'] = time_units"
   ]
  },
  {
   "cell_type": "code",
   "execution_count": null,
   "id": "5e859594-830a-4c9a-8f22-3fffef5e3c43",
   "metadata": {},
   "outputs": [],
   "source": [
    "# This addes the spatial reference to the data\n",
    "ds_new = ds_new.rio.write_crs('epsg:4326')"
   ]
  },
  {
   "cell_type": "code",
   "execution_count": null,
   "id": "977baaf0-3942-4e6a-88be-dffc58a908f2",
   "metadata": {},
   "outputs": [],
   "source": [
    "# test plot\n",
    "ds_new.SoilM_40_100cm.sel(time='1981-01-01').plot(x='lon', y='lat')"
   ]
  },
  {
   "cell_type": "code",
   "execution_count": null,
   "id": "29e3d1c8-c994-437a-baaa-5f667bb8aae5",
   "metadata": {},
   "outputs": [],
   "source": []
  },
  {
   "cell_type": "code",
   "execution_count": null,
   "id": "dded4483-a167-4eda-ae4b-77e472cbd70c",
   "metadata": {},
   "outputs": [],
   "source": [
    "#https://pyproj4.github.io/pyproj/stable/build_crs_cf.html#exporting-crs-to-cf\n",
    "# link above provides some nice tools for getting proj information.\n",
    "\n",
    "# information from variables below will be used to add metadata to new netcdf file.\n",
    "from pyproj import CRS\n",
    "crs = CRS(\"epsg:4326\")\n",
    "cf_grid_mapping = crs.to_cf()\n",
    "cf_coordinate_system = crs.cs_to_cf()\n",
    "print(cf_coordinate_system[0]['axis'])\n",
    "print(cf_grid_mapping)\n",
    "crs"
   ]
  },
  {
   "cell_type": "code",
   "execution_count": null,
   "id": "cad8b3ca-0993-4cdd-9a17-de6dfc0a6e5b",
   "metadata": {},
   "outputs": [],
   "source": [
    "ds_new.lat.attrs['axis'] = cf_coordinate_system[0]['axis']\n",
    "ds_new.lat.attrs['standard_name'] = cf_coordinate_system[0]['standard_name']\n",
    "ds_new.lat.attrs['long_name'] = cf_coordinate_system[0]['long_name']\n",
    "ds_new.lat.attrs['units'] = cf_coordinate_system[0]['units']\n",
    "\n",
    "ds_new.lon.attrs['axis'] = cf_coordinate_system[1]['axis']\n",
    "ds_new.lon.attrs['standard_name'] = cf_coordinate_system[1]['standard_name']\n",
    "ds_new.lon.attrs['long_name'] = cf_coordinate_system[1]['long_name']\n",
    "ds_new.lon.attrs['units'] = cf_coordinate_system[1]['units']\n",
    "\n",
    "ds_new.SoilM_0_10cm.attrs['grid_mapping'] = 'spatial_ref'\n",
    "ds_new.SoilM_10_40cm.attrs['grid_mapping'] = 'spatial_ref'\n",
    "ds_new.SoilM_40_100cm.attrs['grid_mapping'] = 'spatial_ref'\n",
    "ds_new.SoilM_100_200cm.attrs['grid_mapping'] = 'spatial_ref'"
   ]
  },
  {
   "cell_type": "code",
   "execution_count": null,
   "id": "c158ed02-1333-4823-95e5-6e3f557f2239",
   "metadata": {},
   "outputs": [],
   "source": [
    "ds2 = xr.open_dataset(new_ncfile)"
   ]
  },
  {
   "cell_type": "code",
   "execution_count": null,
   "id": "0ea975ac-82f1-4165-b4d8-4360a20daa7d",
   "metadata": {},
   "outputs": [],
   "source": [
    "ds2.SoilM_0_10cm.isel(time=0).plot(x='lon', y='lat')"
   ]
  },
  {
   "cell_type": "code",
   "execution_count": null,
   "id": "61efc2a5-2113-4899-a245-2cf845a15598",
   "metadata": {},
   "outputs": [],
   "source": []
  }
 ],
 "metadata": {
  "kernelspec": {
   "display_name": "Python 3 (ipykernel)",
   "language": "python",
   "name": "python3"
  },
  "language_info": {
   "codemirror_mode": {
    "name": "ipython",
    "version": 3
   },
   "file_extension": ".py",
   "mimetype": "text/x-python",
   "name": "python",
   "nbconvert_exporter": "python",
   "pygments_lexer": "ipython3",
   "version": "3.9.6"
  }
 },
 "nbformat": 4,
 "nbformat_minor": 5
}
