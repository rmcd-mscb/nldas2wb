{
 "cells": [
  {
   "cell_type": "markdown",
   "id": "dc49f606-9679-4aa5-8828-3b68621981d7",
   "metadata": {},
   "source": [
    "# Convert nldas soil data to new netcdf file, that has more cf-standards to work with R tools.  Goal to write file as a standard cf-compliant netCDF file based on original data.\n"
   ]
  },
  {
   "cell_type": "code",
   "execution_count": 1,
   "id": "70772397-ef9c-459c-bb8b-93838d075921",
   "metadata": {},
   "outputs": [],
   "source": [
    "\"\"\"Example notebook to work with nldas soil moisture netcdf files.\"\"\"\n",
    "\n",
    "import geopandas as gpd\n",
    "import numpy as np\n",
    "import time\n",
    "import pickle\n",
    "import xarray as xr\n",
    "import cftime\n",
    "import datetime\n",
    "from datetime import timedelta\n",
    "import rioxarray\n",
    "import pandas as pd"
   ]
  },
  {
   "cell_type": "code",
   "execution_count": 2,
   "id": "b6c03586-5a5b-4b90-a095-f46a31fedd63",
   "metadata": {},
   "outputs": [],
   "source": [
    "# variables\n",
    "start = '1981-01-01'\n",
    "end = '1980-01-01'\n",
    "ncfile = '../data/bas_ref_all/noan_sm_d_1981.nc'\n",
    "shpfile = '../data/bas_ref_all/bas_ref_all.shp'\n",
    "new_ncfile = '../data/bas_ref_all/noan_sm_d_1981_new.nc'"
   ]
  },
  {
   "cell_type": "code",
   "execution_count": 3,
   "id": "dded4483-a167-4eda-ae4b-77e472cbd70c",
   "metadata": {},
   "outputs": [
    {
     "name": "stdout",
     "output_type": "stream",
     "text": [
      "Y\n",
      "{'crs_wkt': 'GEOGCRS[\"WGS 84\",DATUM[\"World Geodetic System 1984\",ELLIPSOID[\"WGS 84\",6378137,298.257223563,LENGTHUNIT[\"metre\",1]]],PRIMEM[\"Greenwich\",0,ANGLEUNIT[\"degree\",0.0174532925199433]],CS[ellipsoidal,2],AXIS[\"geodetic latitude (Lat)\",north,ORDER[1],ANGLEUNIT[\"degree\",0.0174532925199433]],AXIS[\"geodetic longitude (Lon)\",east,ORDER[2],ANGLEUNIT[\"degree\",0.0174532925199433]],USAGE[SCOPE[\"Horizontal component of 3D system.\"],AREA[\"World.\"],BBOX[-90,-180,90,180]],ID[\"EPSG\",4326]]', 'semi_major_axis': 6378137.0, 'semi_minor_axis': 6356752.314245179, 'inverse_flattening': 298.257223563, 'reference_ellipsoid_name': 'WGS 84', 'longitude_of_prime_meridian': 0.0, 'prime_meridian_name': 'Greenwich', 'geographic_crs_name': 'WGS 84', 'grid_mapping_name': 'latitude_longitude'}\n"
     ]
    },
    {
     "data": {
      "text/plain": [
       "<Geographic 2D CRS: EPSG:4326>\n",
       "Name: WGS 84\n",
       "Axis Info [ellipsoidal]:\n",
       "- Lat[north]: Geodetic latitude (degree)\n",
       "- Lon[east]: Geodetic longitude (degree)\n",
       "Area of Use:\n",
       "- name: World.\n",
       "- bounds: (-180.0, -90.0, 180.0, 90.0)\n",
       "Datum: World Geodetic System 1984\n",
       "- Ellipsoid: WGS 84\n",
       "- Prime Meridian: Greenwich"
      ]
     },
     "execution_count": 3,
     "metadata": {},
     "output_type": "execute_result"
    }
   ],
   "source": [
    "#https://pyproj4.github.io/pyproj/stable/build_crs_cf.html#exporting-crs-to-cf\n",
    "# link above provides some nice tools for getting proj information.\n",
    "\n",
    "# information from variables below will be used to add metadata to new netcdf file.\n",
    "from pyproj import CRS\n",
    "crs = CRS(\"epsg:4326\")\n",
    "cf_grid_mapping = crs.to_cf()\n",
    "cf_coordinate_system = crs.cs_to_cf()\n",
    "print(cf_coordinate_system[0]['axis'])\n",
    "print(cf_grid_mapping)\n",
    "crs"
   ]
  },
  {
   "cell_type": "code",
   "execution_count": 4,
   "id": "b18aab63-a92c-41eb-8a80-5a67bcc27627",
   "metadata": {},
   "outputs": [],
   "source": [
    "ds = xr.open_dataset(ncfile)\n",
    "# this netCDF file contains lat/lon in the attributes.  xagg and indeed cf-standards require lat lon variables os here we add them\n",
    "ds['lon'] = ds.attrs['Lon']\n",
    "ds['lat'] = ds.attrs['Lat']\n",
    "attrs = ds.attrs\n",
    "del attrs['Lon']\n",
    "del attrs['Lat']\n",
    "\n",
    "ds = ds.assign_attrs(attrs)\n",
    "gdf = gpd.read_file(shpfile)\n",
    "\n",
    "gdf.to_crs('epsg:4386', inplace=True)"
   ]
  },
  {
   "cell_type": "code",
   "execution_count": 5,
   "id": "4846c781-fe3a-43b2-aebf-c94bc641b286",
   "metadata": {},
   "outputs": [],
   "source": [
    "dates = pd.date_range(start='1981-01-01 12:00',end='1981-12-31 12:00', freq='1d')\n",
    "ds['time'] = dates\n",
    "ds = ds.swap_dims({'time':'JD'})\n",
    "ds = ds.rename({'JD':'time'})"
   ]
  },
  {
   "cell_type": "code",
   "execution_count": 6,
   "id": "417f3c7e-88be-4e8e-93bc-20380883f5a6",
   "metadata": {},
   "outputs": [],
   "source": [
    "ds['lon'] = ds['lon'].assign_attrs({'standard_name':'longitude', 'units':'degrees_east'})\n",
    "ds['lat'] = ds['lat'].assign_attrs({'standard_name':'latitude', 'units':'degrees_north'})"
   ]
  },
  {
   "cell_type": "code",
   "execution_count": 7,
   "id": "3cde623f-4af7-4187-adb2-868fb057c527",
   "metadata": {},
   "outputs": [],
   "source": [
    "ds['latitude_longitude'] = int()\n",
    "ds.latitude_longitude.attrs['grid_mapping_name'] = 'latitude_longitude'\n",
    "ds.latitude_longitude.attrs['semi_major_axis'] = cf_grid_mapping['semi_major_axis']\n",
    "ds.latitude_longitude.attrs['semi_minor_axis'] = cf_grid_mapping['semi_minor_axis']\n",
    "ds.latitude_longitude.attrs['inverse_flattening'] = cf_grid_mapping['inverse_flattening']\n",
    "ds.latitude_longitude.attrs['prime_meridian_name'] = cf_grid_mapping['prime_meridian_name']\n",
    "ds.latitude_longitude.attrs['epsg_code'] = 'EPGS:4326'\n",
    "\n",
    "ds.SoilM_0_10cm.attrs['grid_mapping'] = 'latitude_longitude'\n",
    "ds.SoilM_10_40cm.attrs['grid_mapping'] = 'latitude_longitude'\n",
    "ds.SoilM_40_100cm.attrs['grid_mapping'] = 'latitude_longitude'\n",
    "ds.SoilM_100_200cm.attrs['grid_mapping'] = 'latitude_longitude'\n",
    "\n",
    "ds.to_netcdf(new_ncfile)"
   ]
  },
  {
   "cell_type": "code",
   "execution_count": null,
   "id": "b3123a9d-c4db-4dc7-ac02-e582d11aa295",
   "metadata": {},
   "outputs": [],
   "source": []
  }
 ],
 "metadata": {
  "kernelspec": {
   "display_name": "Python 3 (ipykernel)",
   "language": "python",
   "name": "python3"
  },
  "language_info": {
   "codemirror_mode": {
    "name": "ipython",
    "version": 3
   },
   "file_extension": ".py",
   "mimetype": "text/x-python",
   "name": "python",
   "nbconvert_exporter": "python",
   "pygments_lexer": "ipython3",
   "version": "3.9.6"
  }
 },
 "nbformat": 4,
 "nbformat_minor": 5
}
